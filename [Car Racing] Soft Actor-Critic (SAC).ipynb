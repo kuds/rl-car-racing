{
  "cells": [
    {
      "cell_type": "markdown",
      "metadata": {
        "id": "view-in-github",
        "colab_type": "text"
      },
      "source": [
        "<a href=\"https://colab.research.google.com/github/kuds/rl-car-racing/blob/main/%5BCar%20Racing%5D%20Soft%20Actor-Critic%20(SAC).ipynb\" target=\"_parent\"><img src=\"https://colab.research.google.com/assets/colab-badge.svg\" alt=\"Open In Colab\"/></a>"
      ]
    },
    {
      "cell_type": "markdown",
      "source": [
        "# Soft Actor-Critic (SAC)"
      ],
      "metadata": {
        "id": "foX4LZfP3Z4u"
      }
    },
    {
      "cell_type": "code",
      "execution_count": null,
      "metadata": {
        "id": "6i478loXSux4"
      },
      "outputs": [],
      "source": [
        "!pip install swig"
      ]
    },
    {
      "cell_type": "markdown",
      "source": [],
      "metadata": {
        "id": "aBYb2ChD5cbg"
      }
    },
    {
      "cell_type": "code",
      "execution_count": null,
      "metadata": {
        "id": "Ea5lVVPxSs0Y"
      },
      "outputs": [],
      "source": [
        "!pip install gymnasium gymnasium[box2d] stable_baselines3"
      ]
    },
    {
      "cell_type": "code",
      "source": [
        "import gymnasium\n",
        "from gymnasium.wrappers import RecordVideo\n",
        "\n",
        "import stable_baselines3\n",
        "from stable_baselines3 import SAC\n",
        "from stable_baselines3.common.env_util import make_vec_env\n",
        "from stable_baselines3.common.vec_env import VecFrameStack, VecVideoRecorder\n",
        "from stable_baselines3.common.callbacks import BaseCallback, EvalCallback\n",
        "from stable_baselines3.common.evaluation import evaluate_policy\n",
        "from stable_baselines3.common.vec_env import VecTransposeImage\n",
        "\n",
        "import os\n",
        "import numpy\n",
        "import platform\n",
        "import scipy\n",
        "import IPython\n",
        "import matplotlib\n",
        "import matplotlib.pyplot\n",
        "import torch\n",
        "import time\n",
        "\n",
        "from importlib.metadata import version"
      ],
      "metadata": {
        "id": "4vAoPEgwAAl1"
      },
      "execution_count": 3,
      "outputs": []
    },
    {
      "cell_type": "code",
      "source": [
        "print(f\"Python Version: {platform.python_version()}\")\n",
        "print(f\"Torch Version: {version('torch')}\")\n",
        "print(f\"Is Cuda Available: {torch.cuda.is_available()}\")\n",
        "print(f\"Cuda Version: {torch.version.cuda}\")\n",
        "print(f\"Gymnasium Version: {version('gymnasium')}\")\n",
        "print(f\"Numpy Version: {version('numpy')}\")\n",
        "print(f\"Stable Baselines3 Version: {version('stable_baselines3')}\")\n",
        "print(f\"Scipy Version: {version('scipy')}\")\n",
        "print(f\"IPython Version: {version('ipython')}\")"
      ],
      "metadata": {
        "colab": {
          "base_uri": "https://localhost:8080/"
        },
        "id": "F5u7K6WG28PD",
        "outputId": "c8585c4d-c9c7-42bc-c82f-8153fef1f7ac"
      },
      "execution_count": 4,
      "outputs": [
        {
          "output_type": "stream",
          "name": "stdout",
          "text": [
            "Python Version: 3.10.12\n",
            "Torch Version: 2.4.0+cu121\n",
            "Is Cuda Available: True\n",
            "Cuda Version: 12.1\n",
            "Gymnasium Version: 0.29.1\n",
            "Numpy Version: 1.26.4\n",
            "Stable Baselines3 Version: 2.3.2\n",
            "Scipy Version: 1.13.1\n",
            "IPython Version: 7.34.0\n"
          ]
        },
        {
          "output_type": "stream",
          "name": "stderr",
          "text": [
            "/usr/local/lib/python3.10/dist-packages/ipykernel/ipkernel.py:283: DeprecationWarning: `should_run_async` will not call `transform_cell` automatically in the future. Please pass the result to `transformed_cell` argument and any exception that happen during thetransform in `preprocessing_exc_tuple` in IPython 7.17 and above.\n",
            "  and should_run_async(code)\n"
          ]
        }
      ]
    },
    {
      "cell_type": "code",
      "source": [
        "backend = torch.backends.quantized.engine\n",
        "print(f\"Currently using backend: {backend}\")"
      ],
      "metadata": {
        "id": "6X1AKaNpdE6r",
        "outputId": "2a3dd09d-7716-49d4-ca0d-7e3acb693706",
        "colab": {
          "base_uri": "https://localhost:8080/"
        }
      },
      "execution_count": 5,
      "outputs": [
        {
          "output_type": "stream",
          "name": "stdout",
          "text": [
            "Currently using backend: x86\n"
          ]
        }
      ]
    },
    {
      "cell_type": "code",
      "source": [
        "env = gymnasium.make('CarRacing-v2')\n",
        "print(\"Observation Space Size: \", env.observation_space.shape)\n",
        "print(\"Action Space Size: \", env.action_space.shape)\n",
        "env.close()"
      ],
      "metadata": {
        "colab": {
          "base_uri": "https://localhost:8080/"
        },
        "id": "qq9bbZer3zXA",
        "outputId": "7fba57cc-cb57-48d6-a66a-932aa4f8c764"
      },
      "execution_count": 6,
      "outputs": [
        {
          "output_type": "stream",
          "name": "stdout",
          "text": [
            "Observation Space Size:  (96, 96, 3)\n",
            "Action Space Size:  (3,)\n"
          ]
        }
      ]
    },
    {
      "cell_type": "code",
      "source": [
        "env_str = \"CarRacing-v2\"\n",
        "log_dir = \"./logs/{}\".format(env_str)"
      ],
      "metadata": {
        "id": "_ZOlWmrldCK3"
      },
      "execution_count": null,
      "outputs": []
    },
    {
      "cell_type": "code",
      "execution_count": null,
      "metadata": {
        "id": "OqA7iZ82SQgF"
      },
      "outputs": [],
      "source": [
        "# Create Training CarRacing environment\n",
        "env = make_vec_env(env_str, n_envs=1)\n",
        "env = VecFrameStack(env, n_stack=4)\n",
        "env = VecTransposeImage(env)\n",
        "\n",
        "# Create Evaluation CarRacing environment\n",
        "env_val = make_vec_env(env_str, n_envs=1)\n",
        "env_val = VecFrameStack(env_val, n_stack=4)\n",
        "env_val = VecTransposeImage(env_val)\n",
        "\n",
        "# Create Evaluation Callback\n",
        "# eval_freq - can cause learning instability if set to low\n",
        "eval_callback = EvalCallback(env_val,\n",
        "                             best_model_save_path=log_dir,\n",
        "                             log_path=log_dir,\n",
        "                             eval_freq=20000,\n",
        "                             render=False,\n",
        "                             n_eval_episodes=20)\n",
        "\n",
        "# Initialize SAC\n",
        "# buffer_size - determines how big the replay buffer is\n",
        "model = SAC('CnnPolicy', env, verbose=0, buffer_size=200000)\n",
        "\n",
        "# Train the model\n",
        "model.learn(total_timesteps=1000000, progress_bar=True, callback=eval_callback)\n",
        "\n",
        "# Save the model\n",
        "model.save(os.path.join(log_dir, \"sac_car_racing\"))\n",
        "\n",
        "mean_reward, std_reward = evaluate_policy(model, env, n_eval_episodes=20)\n",
        "print(f\"Mean reward: {mean_reward:.2f} +/- {std_reward:.2f}\")\n",
        "\n",
        "env.close()\n",
        "env_val.close()"
      ]
    },
    {
      "cell_type": "code",
      "source": [
        "# Create Evaluation CarRacing environment\n",
        "env = make_vec_env(env_str, n_envs=1, seed=0)\n",
        "env = VecFrameStack(env, n_stack=4)\n",
        "env = VecTransposeImage(env)\n",
        "\n",
        "# Load the best model\n",
        "best_model_path = os.path.join(log_dir, \"best_model.zip\")\n",
        "best_model = SAC.load(best_model_path, env=env)\n",
        "\n",
        "mean_reward, std_reward = evaluate_policy(best_model, env, n_eval_episodes=20)\n",
        "print(f\"Best Model - Mean reward: {mean_reward:.2f} +/- {std_reward:.2f}\")\n",
        "\n",
        "# Record video of the best model playing CarRacing\n",
        "env = VecVideoRecorder(env, \"./videos/\",\n",
        "                       video_length=10000,\n",
        "                       record_video_trigger=lambda x: x == 0,\n",
        "                       name_prefix=\"best_model_car_racing_sac\")\n",
        "\n",
        "obs = env.reset()\n",
        "for _ in range(10000):\n",
        "    action, _states = best_model.predict(obs)\n",
        "    obs, rewards, dones, info = env.step(action)\n",
        "    env.render()\n",
        "    if dones:\n",
        "        break\n",
        "\n",
        "env.close()"
      ],
      "metadata": {
        "id": "daQQNJhN2vmN"
      },
      "execution_count": null,
      "outputs": []
    },
    {
      "cell_type": "code",
      "source": [
        "# Load the evaluations.npz file\n",
        "data = numpy.load(os.path.join(log_dir, \"evaluations.npz\"))\n",
        "\n",
        "# Extract the relevant data\n",
        "timesteps = data['timesteps']\n",
        "results = data['results']\n",
        "\n",
        "# Calculate the mean and standard deviation of the results\n",
        "mean_results = numpy.mean(results, axis=1)\n",
        "std_results = numpy.std(results, axis=1)\n",
        "\n",
        "# Plot the results\n",
        "matplotlib.pyplot.figure()\n",
        "matplotlib.pyplot.plot(timesteps, mean_results)\n",
        "matplotlib.pyplot.fill_between(timesteps,\n",
        "                               mean_results - std_results,\n",
        "                               mean_results + std_results,\n",
        "                               alpha=0.3)\n",
        "\n",
        "matplotlib.pyplot.xlabel(\"Timesteps\")\n",
        "matplotlib.pyplot.ylabel(\"Mean Reward\")\n",
        "matplotlib.pyplot.title(f\"SAC Performance on {env_str}}\")\n",
        "matplotlib.pyplot.show()"
      ],
      "metadata": {
        "id": "yzr18VJT6XIr"
      },
      "execution_count": null,
      "outputs": []
    }
  ],
  "metadata": {
    "accelerator": "GPU",
    "colab": {
      "gpuType": "A100",
      "machine_shape": "hm",
      "provenance": [],
      "include_colab_link": true
    },
    "kernelspec": {
      "display_name": "Python 3",
      "name": "python3"
    },
    "language_info": {
      "name": "python"
    }
  },
  "nbformat": 4,
  "nbformat_minor": 0
}